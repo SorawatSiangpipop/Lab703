{
  "cells": [
    {
      "metadata": {
        "collapsed": true
      },
      "cell_type": "markdown",
      "source": "1) import log data <br/>\n2) calculate Vp and Vs from DTCO and DTSM in m/s from microsec/ft <br/>\n3) plot vs Depth <br/>\n4) edit the high anomaly peak by mean or remove them"
    },
    {
      "metadata": {
        "trusted": true
      },
      "cell_type": "code",
      "source": "import pandas as pd\nimport matplotlib.pyplot as plt\nimport numpy as np\nfrom matplotlib import cm\nfrom mpl_toolkits.mplot3d import Axes3D\nimport statistics as stat\nfrom scipy import stats\n\n#from matplotlib.ticker import FuncFormatter # for custom number format on x and y axis\n#from io import StringIO\n#from scipy import stats\n%matplotlib inline\n%config InlineBackend.figure_format = 'retina'",
      "execution_count": null,
      "outputs": []
    },
    {
      "metadata": {
        "trusted": true
      },
      "cell_type": "code",
      "source": "pd.set_option('display.max_rows', 10)",
      "execution_count": null,
      "outputs": []
    },
    {
      "metadata": {
        "trusted": true
      },
      "cell_type": "code",
      "source": "st = pd.read_excel('SampleData/logdataVpVs.xlsx') #use sample# as index column\nst",
      "execution_count": null,
      "outputs": []
    },
    {
      "metadata": {
        "trusted": true
      },
      "cell_type": "code",
      "source": "#st.info()",
      "execution_count": null,
      "outputs": []
    },
    {
      "metadata": {
        "trusted": true
      },
      "cell_type": "code",
      "source": "st['Vp(m_s)']= (1/ st['DTCO'])* (0.3048/ 10**-6)\nst['Vs(m_s)']= (1/ st['DTSM'])* (0.3048/ 10**-6)\nst",
      "execution_count": null,
      "outputs": []
    },
    {
      "metadata": {
        "trusted": true
      },
      "cell_type": "code",
      "source": "#st.info()",
      "execution_count": null,
      "outputs": []
    },
    {
      "metadata": {
        "trusted": true,
        "scrolled": false
      },
      "cell_type": "code",
      "source": "fig, ax = plt.subplots(1,5,sharey=True)\nfig.set_size_inches(10,10)\n\nplt.sca(ax[0])\nplt.plot(st['DTCO'], st['DEPTH'])\nplt.grid()\nax[0].invert_yaxis()\nplt.ylabel('Depth(m)')\nplt.xlabel('DTCO(microsec/ft)')\n\n    \nplt.sca(ax[1])\nplt.plot(st['DTSM'], st['DEPTH'])\nplt.grid()\nplt.xlabel('DTSM(microsec/ft)')\n    \nplt.sca(ax[2])\nplt.plot(st['RHOZ'], st['DEPTH'])\nplt.grid()\nplt.xlabel('RHOZ(g/cm3)')\n\nplt.sca(ax[3])\nplt.plot(st['Vp(m_s)'], st['DEPTH'])\nplt.grid()\nplt.xlabel('Vp(m/s)')\n    \nplt.sca(ax[4])\nplt.plot(st['Vs(m_s)'], st['DEPTH'])\nplt.grid()\nplt.xlabel('Vs(m/s)')",
      "execution_count": null,
      "outputs": []
    },
    {
      "metadata": {
        "trusted": true
      },
      "cell_type": "code",
      "source": "st_new = pd.DataFrame()\nst_new['DEPTH']= st['DEPTH']\nst_new['DTCO']= st['DTCO']\nst_new['DTSM']= st['DTSM']\nst_new['RHOZ']= st['RHOZ']\nst_new.head()",
      "execution_count": null,
      "outputs": []
    },
    {
      "metadata": {
        "trusted": true
      },
      "cell_type": "code",
      "source": "meanDTCO= stat.mean(st['DTCO'])\nmeanDTSM= stat.mean(st['DTSM'])\nmeanRHOZ= stat.mean(st['RHOZ'])",
      "execution_count": null,
      "outputs": []
    },
    {
      "metadata": {
        "trusted": true
      },
      "cell_type": "code",
      "source": "# create def for correcting data\ndef correct_DTCO(df):\n    if df['DTCO'] < -1000:\n        return meanDTCO\n    else:\n        return df['DTCO']\n    \ndef correct_DTSM(df):\n    if df['DTSM'] < -1000:\n        return meanDTSM\n    else:\n        return df['DTSM']\n    \ndef correct_RHOZ(df):\n    if df['RHOZ'] < -1000:\n        return meanRHOZ\n    else:\n        return df['RHOZ']",
      "execution_count": null,
      "outputs": []
    },
    {
      "metadata": {
        "trusted": true
      },
      "cell_type": "code",
      "source": "# create new columns\nst_new['DEPTH_new']= st['DEPTH']\nst_new['DTCO_new']= st_new.apply(correct_DTCO, axis=1)\nst_new['DTSM_new']= st_new.apply(correct_DTSM, axis=1)\nst_new['RHOZ_new']= st_new.apply(correct_RHOZ, axis=1)\nst_new",
      "execution_count": null,
      "outputs": []
    },
    {
      "metadata": {
        "trusted": true
      },
      "cell_type": "code",
      "source": "st_new['Vp_new(m_s)']= (1/ st_new['DTCO_new'])* (0.3048/ 10**-6)\nst_new['Vs_new(m_s)']= (1/ st_new['DTSM_new'])* (0.3048/ 10**-6)\nst_new",
      "execution_count": null,
      "outputs": []
    },
    {
      "metadata": {
        "trusted": true
      },
      "cell_type": "code",
      "source": "fig, ax_1 = plt.subplots(1,5,sharey=True)\nfig.set_size_inches(10,10)\n\nplt.sca(ax_1[0])\nplt.plot(st_new['DTCO_new'], st_new['DEPTH_new'])\nplt.grid()\nax_1[0].invert_yaxis()\nplt.ylabel('Depth(m)')\nplt.xlabel('DTCO(microsec/ft)')\n\n    \nplt.sca(ax_1[1])\nplt.plot(st_new['DTSM_new'], st_new['DEPTH_new'])\nplt.grid()\nplt.xlabel('DTSM(microsec/ft)')\n    \nplt.sca(ax_1[2])\nplt.plot(st_new['RHOZ_new'], st_new['DEPTH_new'])\nplt.grid()\nplt.xlabel('RHOZ(g/cm3)')\n\nplt.sca(ax_1[3])\nplt.plot(st_new['Vp_new(m_s)'], st_new['DEPTH_new'])\nplt.grid()\nplt.xlabel('Vp(m/s)')\n    \nplt.sca(ax_1[4])\nplt.plot(st_new['Vs_new(m_s)'], st_new['DEPTH_new'])\nplt.grid()\nplt.xlabel('Vs(m/s)')",
      "execution_count": null,
      "outputs": []
    },
    {
      "metadata": {
        "trusted": true
      },
      "cell_type": "code",
      "source": "st2= st",
      "execution_count": null,
      "outputs": []
    },
    {
      "metadata": {
        "trusted": true
      },
      "cell_type": "code",
      "source": "mean1, sigma1 = st['DTCO'].mean(), st['DTCO'].std()\nprint(mean1, sigma1)\n\nmean2, sigma2 = st['DTSM'].mean(), st['DTSM'].std()\nprint(mean2, sigma2)\n\nmean3, sigma3 = st['RHOZ'].mean(), st['RHOZ'].std()\nprint(mean3, sigma3)",
      "execution_count": null,
      "outputs": []
    },
    {
      "metadata": {
        "trusted": true
      },
      "cell_type": "code",
      "source": "conf_int_DTCO = stats.norm.interval(0.98, loc=mean1, scale=sigma1)\nprint(conf_int_DTCO[0])\nprint(conf_int_DTCO[1])\n\nconf_int_DTSM = stats.norm.interval(0.98, loc=mean2, scale=sigma2)\nprint(conf_int_DTSM[0])\nprint(conf_int_DTSM[1])\n\nconf_int_RHOZ = stats.norm.interval(0.98, loc=mean3, scale=sigma3)\nprint(conf_int_RHOZ[0])\nprint(conf_int_RHOZ[1])",
      "execution_count": null,
      "outputs": []
    },
    {
      "metadata": {
        "trusted": true
      },
      "cell_type": "code",
      "source": "indDTCO_l= st2.index[st2['DTCO'] < conf_int_DTCO[0]].tolist()\nindDTCO_h= st2.index[st2['DTCO'] > conf_int_DTCO[1]].tolist()\n\nindDTSM_l= st2.index[st2['DTSM'] < conf_int_DTSM[0]].tolist()\nindDTSM_h= st2.index[st2['DTSM'] > conf_int_DTSM[1]].tolist()\n\nindRHOZ_l= st2.index[st2['RHOZ'] < conf_int_RHOZ[0]].tolist()\nindRHOZ_h= st2.index[st2['RHOZ'] > conf_int_RHOZ[1]].tolist()\n\nu_ind= indDTCO_l+ indDTCO_h+ indDTSM_l+ indDTSM_h+ indRHOZ_l+ indRHOZ_h\nu_ind",
      "execution_count": null,
      "outputs": []
    },
    {
      "metadata": {
        "trusted": true
      },
      "cell_type": "code",
      "source": "st2= st2.drop(u_ind)\nst2",
      "execution_count": null,
      "outputs": []
    },
    {
      "metadata": {
        "trusted": true
      },
      "cell_type": "code",
      "source": "st2['Vp(m_s)']= (1/ st2['DTCO'])* (0.3048/ 10**-6)\nst2['Vs(m_s)']= (1/ st2['DTSM'])* (0.3048/ 10**-6)\nst2",
      "execution_count": null,
      "outputs": []
    },
    {
      "metadata": {
        "trusted": true,
        "scrolled": false
      },
      "cell_type": "code",
      "source": "fig, ax_1 = plt.subplots(1,5,sharey=True)\nfig.set_size_inches(10,10)\n\nplt.sca(ax_1[0])\nplt.plot(st2['DTCO'], st2['DEPTH'])\nplt.grid()\nax_1[0].invert_yaxis()\nplt.ylabel('Depth(m)')\nplt.xlabel('DTCO(microsec/ft)')\n\n    \nplt.sca(ax_1[1])\nplt.plot(st2['DTSM'], st2['DEPTH'])\nplt.grid()\nplt.xlabel('DTSM(microsec/ft)')\n    \nplt.sca(ax_1[2])\nplt.plot(st2['RHOZ'], st2['DEPTH'])\nplt.grid()\nplt.xlabel('RHOZ(g/cm3)')\n\nplt.sca(ax_1[3])\nplt.plot(st2['Vp(m_s)'], st2['DEPTH'])\nplt.grid()\nplt.xlabel('Vp(m/s)')\n    \nplt.sca(ax_1[4])\nplt.plot(st2['Vs(m_s)'], st2['DEPTH'])\nplt.grid()\nplt.xlabel('Vs(m/s)')",
      "execution_count": null,
      "outputs": []
    },
    {
      "metadata": {
        "trusted": true
      },
      "cell_type": "code",
      "source": "",
      "execution_count": null,
      "outputs": []
    }
  ],
  "metadata": {
    "kernelspec": {
      "name": "python36",
      "display_name": "Python 3.6",
      "language": "python"
    },
    "language_info": {
      "mimetype": "text/x-python",
      "nbconvert_exporter": "python",
      "name": "python",
      "pygments_lexer": "ipython3",
      "version": "3.6.6",
      "file_extension": ".py",
      "codemirror_mode": {
        "version": 3,
        "name": "ipython"
      }
    }
  },
  "nbformat": 4,
  "nbformat_minor": 2
}