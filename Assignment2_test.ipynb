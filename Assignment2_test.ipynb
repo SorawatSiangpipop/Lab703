{
 "cells": [
  {
   "cell_type": "markdown",
   "metadata": {
    "collapsed": true
   },
   "source": [
    "1) import log data <br/>\n",
    "2) calculate Vp and Vs from DTCO and DTSM in m/s from microsec/ft <br/>\n",
    "3) plot vs Depth <br/>\n",
    "4) edit the high anomaly peak by mean or remove them"
   ]
  },
  {
   "cell_type": "code",
   "execution_count": 1,
   "metadata": {},
   "outputs": [],
   "source": [
    "import pandas as pd\n",
    "import matplotlib.pyplot as plt\n",
    "import numpy as np\n",
    "from matplotlib import cm\n",
    "from mpl_toolkits.mplot3d import Axes3D\n",
    "import statistics as stat\n",
    "from scipy import stats\n",
    "\n",
    "#from matplotlib.ticker import FuncFormatter # for custom number format on x and y axis\n",
    "#from io import StringIO\n",
    "#from scipy import stats\n",
    "%matplotlib inline\n",
    "%config InlineBackend.figure_format = 'retina'"
   ]
  },
  {
   "cell_type": "code",
   "execution_count": 2,
   "metadata": {},
   "outputs": [],
   "source": [
    "pd.set_option('display.max_rows', 10)"
   ]
  },
  {
   "cell_type": "code",
   "execution_count": 3,
   "metadata": {},
   "outputs": [
    {
     "data": {
      "text/html": [
       "<div>\n",
       "<style scoped>\n",
       "    .dataframe tbody tr th:only-of-type {\n",
       "        vertical-align: middle;\n",
       "    }\n",
       "\n",
       "    .dataframe tbody tr th {\n",
       "        vertical-align: top;\n",
       "    }\n",
       "\n",
       "    .dataframe thead th {\n",
       "        text-align: right;\n",
       "    }\n",
       "</style>\n",
       "<table border=\"1\" class=\"dataframe\">\n",
       "  <thead>\n",
       "    <tr style=\"text-align: right;\">\n",
       "      <th></th>\n",
       "      <th>DEPTH</th>\n",
       "      <th>DTCO</th>\n",
       "      <th>DTSM</th>\n",
       "      <th>RHOZ</th>\n",
       "    </tr>\n",
       "  </thead>\n",
       "  <tbody>\n",
       "    <tr>\n",
       "      <th>0</th>\n",
       "      <td>693.4200</td>\n",
       "      <td>156.0565</td>\n",
       "      <td>469.2656</td>\n",
       "      <td>4.5631</td>\n",
       "    </tr>\n",
       "    <tr>\n",
       "      <th>1</th>\n",
       "      <td>693.5724</td>\n",
       "      <td>155.0785</td>\n",
       "      <td>446.2663</td>\n",
       "      <td>4.5650</td>\n",
       "    </tr>\n",
       "    <tr>\n",
       "      <th>2</th>\n",
       "      <td>693.7248</td>\n",
       "      <td>153.8340</td>\n",
       "      <td>436.9780</td>\n",
       "      <td>4.5756</td>\n",
       "    </tr>\n",
       "    <tr>\n",
       "      <th>3</th>\n",
       "      <td>693.8772</td>\n",
       "      <td>151.9469</td>\n",
       "      <td>432.6328</td>\n",
       "      <td>4.5771</td>\n",
       "    </tr>\n",
       "    <tr>\n",
       "      <th>4</th>\n",
       "      <td>694.0296</td>\n",
       "      <td>150.8684</td>\n",
       "      <td>425.2656</td>\n",
       "      <td>4.5780</td>\n",
       "    </tr>\n",
       "    <tr>\n",
       "      <th>...</th>\n",
       "      <td>...</td>\n",
       "      <td>...</td>\n",
       "      <td>...</td>\n",
       "      <td>...</td>\n",
       "    </tr>\n",
       "    <tr>\n",
       "      <th>10964</th>\n",
       "      <td>2364.3336</td>\n",
       "      <td>108.0000</td>\n",
       "      <td>214.5455</td>\n",
       "      <td>2.3224</td>\n",
       "    </tr>\n",
       "    <tr>\n",
       "      <th>10965</th>\n",
       "      <td>2364.4860</td>\n",
       "      <td>108.0000</td>\n",
       "      <td>214.5455</td>\n",
       "      <td>2.3121</td>\n",
       "    </tr>\n",
       "    <tr>\n",
       "      <th>10966</th>\n",
       "      <td>2364.6384</td>\n",
       "      <td>108.0000</td>\n",
       "      <td>214.5455</td>\n",
       "      <td>2.2996</td>\n",
       "    </tr>\n",
       "    <tr>\n",
       "      <th>10967</th>\n",
       "      <td>2364.7908</td>\n",
       "      <td>108.0000</td>\n",
       "      <td>214.5455</td>\n",
       "      <td>2.2953</td>\n",
       "    </tr>\n",
       "    <tr>\n",
       "      <th>10968</th>\n",
       "      <td>2364.9432</td>\n",
       "      <td>108.3072</td>\n",
       "      <td>214.5455</td>\n",
       "      <td>2.2992</td>\n",
       "    </tr>\n",
       "  </tbody>\n",
       "</table>\n",
       "<p>10969 rows × 4 columns</p>\n",
       "</div>"
      ],
      "text/plain": [
       "           DEPTH      DTCO      DTSM    RHOZ\n",
       "0       693.4200  156.0565  469.2656  4.5631\n",
       "1       693.5724  155.0785  446.2663  4.5650\n",
       "2       693.7248  153.8340  436.9780  4.5756\n",
       "3       693.8772  151.9469  432.6328  4.5771\n",
       "4       694.0296  150.8684  425.2656  4.5780\n",
       "...          ...       ...       ...     ...\n",
       "10964  2364.3336  108.0000  214.5455  2.3224\n",
       "10965  2364.4860  108.0000  214.5455  2.3121\n",
       "10966  2364.6384  108.0000  214.5455  2.2996\n",
       "10967  2364.7908  108.0000  214.5455  2.2953\n",
       "10968  2364.9432  108.3072  214.5455  2.2992\n",
       "\n",
       "[10969 rows x 4 columns]"
      ]
     },
     "execution_count": 3,
     "metadata": {},
     "output_type": "execute_result"
    }
   ],
   "source": [
    "st = pd.read_excel('SampleData/logdataVpVs.xlsx') #use sample# as index column\n",
    "st"
   ]
  },
  {
   "cell_type": "code",
   "execution_count": null,
   "metadata": {},
   "outputs": [],
   "source": [
    "#st.info()"
   ]
  },
  {
   "cell_type": "code",
   "execution_count": null,
   "metadata": {},
   "outputs": [],
   "source": [
    "st['Vp(m_s)']= (1/ st['DTCO'])* (0.3048/ 10**-6)\n",
    "st['Vs(m_s)']= (1/ st['DTSM'])* (0.3048/ 10**-6)\n",
    "st"
   ]
  },
  {
   "cell_type": "code",
   "execution_count": null,
   "metadata": {},
   "outputs": [],
   "source": [
    "#st.info()"
   ]
  },
  {
   "cell_type": "code",
   "execution_count": null,
   "metadata": {
    "scrolled": false
   },
   "outputs": [],
   "source": [
    "fig, ax = plt.subplots(1,5,sharey=True)\n",
    "fig.set_size_inches(10,10)\n",
    "\n",
    "plt.sca(ax[0])\n",
    "plt.plot(st['DTCO'], st['DEPTH'])\n",
    "plt.grid()\n",
    "ax[0].invert_yaxis()\n",
    "plt.ylabel('Depth(m)')\n",
    "plt.xlabel('DTCO(microsec/ft)')\n",
    "\n",
    "    \n",
    "plt.sca(ax[1])\n",
    "plt.plot(st['DTSM'], st['DEPTH'])\n",
    "plt.grid()\n",
    "plt.xlabel('DTSM(microsec/ft)')\n",
    "    \n",
    "plt.sca(ax[2])\n",
    "plt.plot(st['RHOZ'], st['DEPTH'])\n",
    "plt.grid()\n",
    "plt.xlabel('RHOZ(g/cm3)')\n",
    "\n",
    "plt.sca(ax[3])\n",
    "plt.plot(st['Vp(m_s)'], st['DEPTH'])\n",
    "plt.grid()\n",
    "plt.xlabel('Vp(m/s)')\n",
    "    \n",
    "plt.sca(ax[4])\n",
    "plt.plot(st['Vs(m_s)'], st['DEPTH'])\n",
    "plt.grid()\n",
    "plt.xlabel('Vs(m/s)')"
   ]
  },
  {
   "cell_type": "code",
   "execution_count": null,
   "metadata": {},
   "outputs": [],
   "source": [
    "st_new = pd.DataFrame()\n",
    "st_new['DEPTH']= st['DEPTH']\n",
    "st_new['DTCO']= st['DTCO']\n",
    "st_new['DTSM']= st['DTSM']\n",
    "st_new['RHOZ']= st['RHOZ']\n",
    "st_new.head()"
   ]
  },
  {
   "cell_type": "code",
   "execution_count": null,
   "metadata": {},
   "outputs": [],
   "source": [
    "meanDTCO= stat.mean(st['DTCO'])\n",
    "meanDTSM= stat.mean(st['DTSM'])\n",
    "meanRHOZ= stat.mean(st['RHOZ'])"
   ]
  },
  {
   "cell_type": "code",
   "execution_count": null,
   "metadata": {},
   "outputs": [],
   "source": [
    "# create def for correcting data\n",
    "def correct_DTCO(df):\n",
    "    if df['DTCO'] < -1000:\n",
    "        return meanDTCO\n",
    "    else:\n",
    "        return df['DTCO']\n",
    "    \n",
    "def correct_DTSM(df):\n",
    "    if df['DTSM'] < -1000:\n",
    "        return meanDTSM\n",
    "    else:\n",
    "        return df['DTSM']\n",
    "    \n",
    "def correct_RHOZ(df):\n",
    "    if df['RHOZ'] < -1000:\n",
    "        return meanRHOZ\n",
    "    else:\n",
    "        return df['RHOZ']"
   ]
  },
  {
   "cell_type": "code",
   "execution_count": null,
   "metadata": {},
   "outputs": [],
   "source": [
    "# create new columns\n",
    "st_new['DEPTH_new']= st['DEPTH']\n",
    "st_new['DTCO_new']= st_new.apply(correct_DTCO, axis=1)\n",
    "st_new['DTSM_new']= st_new.apply(correct_DTSM, axis=1)\n",
    "st_new['RHOZ_new']= st_new.apply(correct_RHOZ, axis=1)\n",
    "st_new"
   ]
  },
  {
   "cell_type": "code",
   "execution_count": null,
   "metadata": {},
   "outputs": [],
   "source": [
    "st_new['Vp_new(m_s)']= (1/ st_new['DTCO_new'])* (0.3048/ 10**-6)\n",
    "st_new['Vs_new(m_s)']= (1/ st_new['DTSM_new'])* (0.3048/ 10**-6)\n",
    "st_new"
   ]
  },
  {
   "cell_type": "code",
   "execution_count": null,
   "metadata": {},
   "outputs": [],
   "source": [
    "fig, ax_1 = plt.subplots(1,5,sharey=True)\n",
    "fig.set_size_inches(10,10)\n",
    "\n",
    "plt.sca(ax_1[0])\n",
    "plt.plot(st_new['DTCO_new'], st_new['DEPTH_new'])\n",
    "plt.grid()\n",
    "ax_1[0].invert_yaxis()\n",
    "plt.ylabel('Depth(m)')\n",
    "plt.xlabel('DTCO(microsec/ft)')\n",
    "\n",
    "    \n",
    "plt.sca(ax_1[1])\n",
    "plt.plot(st_new['DTSM_new'], st_new['DEPTH_new'])\n",
    "plt.grid()\n",
    "plt.xlabel('DTSM(microsec/ft)')\n",
    "    \n",
    "plt.sca(ax_1[2])\n",
    "plt.plot(st_new['RHOZ_new'], st_new['DEPTH_new'])\n",
    "plt.grid()\n",
    "plt.xlabel('RHOZ(g/cm3)')\n",
    "\n",
    "plt.sca(ax_1[3])\n",
    "plt.plot(st_new['Vp_new(m_s)'], st_new['DEPTH_new'])\n",
    "plt.grid()\n",
    "plt.xlabel('Vp(m/s)')\n",
    "    \n",
    "plt.sca(ax_1[4])\n",
    "plt.plot(st_new['Vs_new(m_s)'], st_new['DEPTH_new'])\n",
    "plt.grid()\n",
    "plt.xlabel('Vs(m/s)')"
   ]
  },
  {
   "cell_type": "code",
   "execution_count": null,
   "metadata": {},
   "outputs": [],
   "source": [
    "st2= st"
   ]
  },
  {
   "cell_type": "code",
   "execution_count": null,
   "metadata": {},
   "outputs": [],
   "source": [
    "mean1, sigma1 = st['DTCO'].mean(), st['DTCO'].std()\n",
    "print(mean1, sigma1)\n",
    "\n",
    "mean2, sigma2 = st['DTSM'].mean(), st['DTSM'].std()\n",
    "print(mean2, sigma2)\n",
    "\n",
    "mean3, sigma3 = st['RHOZ'].mean(), st['RHOZ'].std()\n",
    "print(mean3, sigma3)"
   ]
  },
  {
   "cell_type": "code",
   "execution_count": null,
   "metadata": {},
   "outputs": [],
   "source": [
    "conf_int_DTCO = stats.norm.interval(0.98, loc=mean1, scale=sigma1)\n",
    "print(conf_int_DTCO[0])\n",
    "print(conf_int_DTCO[1])\n",
    "\n",
    "conf_int_DTSM = stats.norm.interval(0.98, loc=mean2, scale=sigma2)\n",
    "print(conf_int_DTSM[0])\n",
    "print(conf_int_DTSM[1])\n",
    "\n",
    "conf_int_RHOZ = stats.norm.interval(0.98, loc=mean3, scale=sigma3)\n",
    "print(conf_int_RHOZ[0])\n",
    "print(conf_int_RHOZ[1])"
   ]
  },
  {
   "cell_type": "code",
   "execution_count": null,
   "metadata": {},
   "outputs": [],
   "source": [
    "indDTCO_l= st2.index[st2['DTCO'] < conf_int_DTCO[0]].tolist()\n",
    "indDTCO_h= st2.index[st2['DTCO'] > conf_int_DTCO[1]].tolist()\n",
    "\n",
    "indDTSM_l= st2.index[st2['DTSM'] < conf_int_DTSM[0]].tolist()\n",
    "indDTSM_h= st2.index[st2['DTSM'] > conf_int_DTSM[1]].tolist()\n",
    "\n",
    "indRHOZ_l= st2.index[st2['RHOZ'] < conf_int_RHOZ[0]].tolist()\n",
    "indRHOZ_h= st2.index[st2['RHOZ'] > conf_int_RHOZ[1]].tolist()\n",
    "\n",
    "u_ind= indDTCO_l+ indDTCO_h+ indDTSM_l+ indDTSM_h+ indRHOZ_l+ indRHOZ_h\n",
    "u_ind"
   ]
  },
  {
   "cell_type": "code",
   "execution_count": null,
   "metadata": {},
   "outputs": [],
   "source": [
    "st2= st2.drop(u_ind)\n",
    "st2"
   ]
  },
  {
   "cell_type": "code",
   "execution_count": null,
   "metadata": {},
   "outputs": [],
   "source": [
    "st2['Vp(m_s)']= (1/ st2['DTCO'])* (0.3048/ 10**-6)\n",
    "st2['Vs(m_s)']= (1/ st2['DTSM'])* (0.3048/ 10**-6)\n",
    "st2"
   ]
  },
  {
   "cell_type": "code",
   "execution_count": null,
   "metadata": {
    "scrolled": false
   },
   "outputs": [],
   "source": [
    "fig, ax_1 = plt.subplots(1,5,sharey=True)\n",
    "fig.set_size_inches(10,10)\n",
    "\n",
    "plt.sca(ax_1[0])\n",
    "plt.plot(st2['DTCO'], st2['DEPTH'])\n",
    "plt.grid()\n",
    "ax_1[0].invert_yaxis()\n",
    "plt.ylabel('Depth(m)')\n",
    "plt.xlabel('DTCO(microsec/ft)')\n",
    "\n",
    "    \n",
    "plt.sca(ax_1[1])\n",
    "plt.plot(st2['DTSM'], st2['DEPTH'])\n",
    "plt.grid()\n",
    "plt.xlabel('DTSM(microsec/ft)')\n",
    "    \n",
    "plt.sca(ax_1[2])\n",
    "plt.plot(st2['RHOZ'], st2['DEPTH'])\n",
    "plt.grid()\n",
    "plt.xlabel('RHOZ(g/cm3)')\n",
    "\n",
    "plt.sca(ax_1[3])\n",
    "plt.plot(st2['Vp(m_s)'], st2['DEPTH'])\n",
    "plt.grid()\n",
    "plt.xlabel('Vp(m/s)')\n",
    "    \n",
    "plt.sca(ax_1[4])\n",
    "plt.plot(st2['Vs(m_s)'], st2['DEPTH'])\n",
    "plt.grid()\n",
    "plt.xlabel('Vs(m/s)')"
   ]
  },
  {
   "cell_type": "code",
   "execution_count": null,
   "metadata": {},
   "outputs": [],
   "source": []
  }
 ],
 "metadata": {
  "kernelspec": {
   "display_name": "Python 3",
   "language": "python",
   "name": "python3"
  },
  "language_info": {
   "codemirror_mode": {
    "name": "ipython",
    "version": 3
   },
   "file_extension": ".py",
   "mimetype": "text/x-python",
   "name": "python",
   "nbconvert_exporter": "python",
   "pygments_lexer": "ipython3",
   "version": "3.7.3"
  }
 },
 "nbformat": 4,
 "nbformat_minor": 2
}
