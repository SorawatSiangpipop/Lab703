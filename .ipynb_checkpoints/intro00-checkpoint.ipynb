{
 "cells": [
  {
   "cell_type": "code",
   "execution_count": 1,
   "metadata": {},
   "outputs": [],
   "source": [
    "import math"
   ]
  },
  {
   "cell_type": "code",
   "execution_count": 2,
   "metadata": {},
   "outputs": [
    {
     "name": "stdout",
     "output_type": "stream",
     "text": [
      "7.38905609893065\n"
     ]
    }
   ],
   "source": [
    "print(math.exp(2))"
   ]
  },
  {
   "cell_type": "code",
   "execution_count": 3,
   "metadata": {},
   "outputs": [
    {
     "data": {
      "text/plain": [
       "6"
      ]
     },
     "execution_count": 3,
     "metadata": {},
     "output_type": "execute_result"
    }
   ],
   "source": [
    "2+4"
   ]
  },
  {
   "cell_type": "markdown",
   "metadata": {},
   "source": [
    "approximating $e^x$ at $x=2$"
   ]
  },
  {
   "cell_type": "code",
   "execution_count": 4,
   "metadata": {},
   "outputs": [],
   "source": [
    "x = 2"
   ]
  },
  {
   "cell_type": "code",
   "execution_count": 5,
   "metadata": {},
   "outputs": [
    {
     "name": "stdout",
     "output_type": "stream",
     "text": [
      "7.0\n"
     ]
    }
   ],
   "source": [
    "ex1 = x**0/math.factorial(0) + x**1/math.factorial(1) + x**2/math.factorial(2) + x**3/math.factorial(3) + x**4/math.factorial(4)\n",
    "print(ex1)"
   ]
  },
  {
   "cell_type": "markdown",
   "metadata": {},
   "source": [
    "Using loop for Taylor's series"
   ]
  },
  {
   "cell_type": "code",
   "execution_count": 6,
   "metadata": {},
   "outputs": [
    {
     "name": "stdout",
     "output_type": "stream",
     "text": [
      "54.15414462081129\n"
     ]
    }
   ],
   "source": [
    "x = 4\n",
    "ex2 = 0\n",
    "for i in range(10):\n",
    "    ex2 += x**i/math.factorial(i)\n",
    "print(ex2)"
   ]
  },
  {
   "cell_type": "markdown",
   "metadata": {},
   "source": [
    "As a function"
   ]
  },
  {
   "cell_type": "code",
   "execution_count": 7,
   "metadata": {},
   "outputs": [],
   "source": [
    "def func_ex(x,n):\n",
    "    # n must not be 0\n",
    "    e_approx = 0\n",
    "    for i in range(n):\n",
    "        e_approx += x**i/math.factorial(i)\n",
    "    return e_approx"
   ]
  },
  {
   "cell_type": "code",
   "execution_count": 8,
   "metadata": {},
   "outputs": [
    {
     "name": "stdout",
     "output_type": "stream",
     "text": [
      "54.15414462081129\n"
     ]
    }
   ],
   "source": [
    "out = func_ex(4,10)\n",
    "print(out)"
   ]
  },
  {
   "cell_type": "markdown",
   "metadata": {},
   "source": [
    "Using for loop to calculate the difference between the Taylor's series expansion and Python's exp() function"
   ]
  },
  {
   "cell_type": "code",
   "execution_count": 12,
   "metadata": {},
   "outputs": [
    {
     "name": "stdout",
     "output_type": "stream",
     "text": [
      " 1 term: Taylor-Series-approx=                 1.0, exp(x)=7.38905609893065, error=6.38905609893065\n",
      " 2 term: Taylor-Series-approx=                 3.0, exp(x)=7.38905609893065, error=4.38905609893065\n",
      " 3 term: Taylor-Series-approx=                 5.0, exp(x)=7.38905609893065, error=2.3890560989306504\n",
      " 4 term: Taylor-Series-approx=   6.333333333333333, exp(x)=7.38905609893065, error=1.0557227655973174\n",
      " 5 term: Taylor-Series-approx=                 7.0, exp(x)=7.38905609893065, error=0.3890560989306504\n",
      " 6 term: Taylor-Series-approx=   7.266666666666667, exp(x)=7.38905609893065, error=0.1223894322639838\n",
      " 7 term: Taylor-Series-approx=   7.355555555555555, exp(x)=7.38905609893065, error=0.033500543375095226\n",
      " 8 term: Taylor-Series-approx=  7.3809523809523805, exp(x)=7.38905609893065, error=0.00810371797826992\n",
      " 9 term: Taylor-Series-approx=   7.387301587301587, exp(x)=7.38905609893065, error=0.0017545116290635931\n",
      "10 term: Taylor-Series-approx=  7.3887125220458545, exp(x)=7.38905609893065, error=0.0003435768847959153\n",
      "11 term: Taylor-Series-approx=   7.388994708994708, exp(x)=7.38905609893065, error=6.138993594273501e-05\n",
      "12 term: Taylor-Series-approx=   7.389046015712681, exp(x)=7.38905609893065, error=1.0083217969025782e-05\n",
      "13 term: Taylor-Series-approx=  7.3890545668323435, exp(x)=7.38905609893065, error=1.5320983068889404e-06\n",
      "14 term: Taylor-Series-approx=   7.389055882389215, exp(x)=7.38905609893065, error=2.1654143544935778e-07\n"
     ]
    }
   ],
   "source": [
    "x = 2\n",
    "for i in range(1,15):\n",
    "    e_approx = func_ex(x,i)\n",
    "    e_exp = math.exp(x)\n",
    "    e_error = abs(e_approx - e_exp)\n",
    "    print(f'{i:2} term: Taylor-Series-approx={e_approx:20}, exp(x)={e_exp}, error={e_error}')"
   ]
  },
  {
   "cell_type": "code",
   "execution_count": null,
   "metadata": {},
   "outputs": [],
   "source": []
  }
 ],
 "metadata": {
  "kernelspec": {
   "display_name": "Python 3",
   "language": "python",
   "name": "python3"
  },
  "language_info": {
   "codemirror_mode": {
    "name": "ipython",
    "version": 3
   },
   "file_extension": ".py",
   "mimetype": "text/x-python",
   "name": "python",
   "nbconvert_exporter": "python",
   "pygments_lexer": "ipython3",
   "version": "3.7.3"
  }
 },
 "nbformat": 4,
 "nbformat_minor": 2
}
