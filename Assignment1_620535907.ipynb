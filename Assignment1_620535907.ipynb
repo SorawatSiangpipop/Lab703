{
 "cells": [
  {
   "cell_type": "markdown",
   "metadata": {},
   "source": [
    "Sorawat Siangpipop\n",
    "620535907"
   ]
  },
  {
   "cell_type": "markdown",
   "metadata": {
    "collapsed": true
   },
   "source": [
    "$y_1=cos(2\\pi ft)$ <br>\n",
    "$y_2=e^{-at}$ <br>\n",
    "$y_3=e^{-at}cos(2 \\pi ft)$ <br>\n",
    "f = 1, 2, 3, ...10 <br>\n",
    "t = 0 to 2 sec <br>\n",
    "a = some constants (interactive)"
   ]
  },
  {
   "cell_type": "code",
   "execution_count": 1,
   "metadata": {},
   "outputs": [],
   "source": [
    "import matplotlib.pyplot as plt\n",
    "import numpy as np\n",
    "# if using a Jupyter notebook, includes:\n",
    "%matplotlib inline\n",
    "%config InlineBackend.figure_format = 'retina'\n",
    "#%plt.rcParams['figure.fisize']=(6,3)\n",
    "#%plt.rcParams['figure.dpi']=150\n",
    "\n",
    "from ipywidgets import interact, interactive, fixed, interact_manual\n",
    "import ipywidgets as widgets"
   ]
  },
  {
   "cell_type": "code",
   "execution_count": 2,
   "metadata": {},
   "outputs": [
    {
     "data": {
      "application/vnd.jupyter.widget-view+json": {
       "model_id": "9dc6e03d88714b0785023305d3d9b6c3",
       "version_major": 2,
       "version_minor": 0
      },
      "text/plain": [
       "interactive(children=(IntSlider(value=5, description='f', max=10), IntSlider(value=5, description='a', max=10)…"
      ]
     },
     "metadata": {},
     "output_type": "display_data"
    },
    {
     "data": {
      "text/plain": [
       "<function __main__.hw1(f, a)>"
      ]
     },
     "execution_count": 2,
     "metadata": {},
     "output_type": "execute_result"
    }
   ],
   "source": [
    "def hw1(f, a):\n",
    "    \n",
    "    t = np.arange(0, 2, 0.01)\n",
    "    y1 = np.cos(2*np.pi*f*t)\n",
    "    y2 = np.exp(-a*t)\n",
    "    y3 = y1*y2\n",
    "    \n",
    "    fig, ax = plt.subplots(1,3)\n",
    "    fig.set_size_inches(20,3)\n",
    "    \n",
    "    plt.sca(ax[0])\n",
    "    plt.plot(t, y1)\n",
    "    \n",
    "    plt.sca(ax[1])\n",
    "    plt.plot(t, y2)\n",
    "    \n",
    "    plt.sca(ax[2])\n",
    "    plt.plot(t, y3)\n",
    "    \n",
    "#interactive\n",
    "interact(hw1, f=(0,10), a=(0,10))"
   ]
  },
  {
   "cell_type": "code",
   "execution_count": null,
   "metadata": {},
   "outputs": [],
   "source": []
  }
 ],
 "metadata": {
  "kernelspec": {
   "display_name": "Python 3",
   "language": "python",
   "name": "python3"
  },
  "language_info": {
   "codemirror_mode": {
    "name": "ipython",
    "version": 3
   },
   "file_extension": ".py",
   "mimetype": "text/x-python",
   "name": "python",
   "nbconvert_exporter": "python",
   "pygments_lexer": "ipython3",
   "version": "3.7.3"
  }
 },
 "nbformat": 4,
 "nbformat_minor": 2
}
