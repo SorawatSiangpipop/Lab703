{
  "cells": [
    {
      "metadata": {},
      "cell_type": "markdown",
      "source": "Sorawat Siangpipop\n620535907"
    },
    {
      "metadata": {
        "collapsed": true
      },
      "cell_type": "markdown",
      "source": "$y_1=cos(2\\pi ft)$ <br>\n$y_2=e^{-at}$ <br>\n$y_3=e^{-at}cos(2 \\pi ft)$ <br>\nf = 1, 2, 3, ...10 <br>\nt = 0 to 2 sec <br>\na = some constants (interactive)"
    },
    {
      "metadata": {
        "trusted": true
      },
      "cell_type": "code",
      "source": "import matplotlib.pyplot as plt\nimport numpy as np\n# if using a Jupyter notebook, includes:\n%matplotlib inline\n%config InlineBackend.figure_format = 'retina'\n#%plt.rcParams['figure.fisize']=(6,3)\n#%plt.rcParams['figure.dpi']=150\n\nfrom ipywidgets import interact, interactive, fixed, interact_manual\nimport ipywidgets as widgets",
      "execution_count": 1,
      "outputs": []
    },
    {
      "metadata": {
        "trusted": true
      },
      "cell_type": "code",
      "source": "def hw1(f, a):\n    \n    t = np.arange(0, 2, 0.01)\n    y1 = np.cos(2*np.pi*f*t)\n    y2 = np.exp(-a*t)\n    y3 = y1*y2\n    \n    fig, ax = plt.subplots(1,3)\n    fig.set_size_inches(20,3)\n    \n    plt.sca(ax[0])\n    plt.plot(t, y1)\n    \n    plt.sca(ax[1])\n    plt.plot(t, y2)\n    \n    plt.sca(ax[2])\n    plt.plot(t, y3)\n    \n#interactive\ninteract(hw1, f=(0,10), a=(0,10))",
      "execution_count": 2,
      "outputs": [
        {
          "output_type": "display_data",
          "data": {
            "application/vnd.jupyter.widget-view+json": {
              "model_id": "9dc6e03d88714b0785023305d3d9b6c3",
              "version_minor": 0,
              "version_major": 2
            },
            "text/plain": "interactive(children=(IntSlider(value=5, description='f', max=10), IntSlider(value=5, description='a', max=10)…"
          },
          "metadata": {}
        },
        {
          "output_type": "execute_result",
          "execution_count": 2,
          "data": {
            "text/plain": "<function __main__.hw1(f, a)>"
          },
          "metadata": {}
        }
      ]
    },
    {
      "metadata": {
        "trusted": true
      },
      "cell_type": "code",
      "source": "",
      "execution_count": null,
      "outputs": []
    }
  ],
  "metadata": {
    "kernelspec": {
      "name": "python36",
      "display_name": "Python 3.6",
      "language": "python"
    },
    "language_info": {
      "mimetype": "text/x-python",
      "nbconvert_exporter": "python",
      "name": "python",
      "pygments_lexer": "ipython3",
      "version": "3.6.6",
      "file_extension": ".py",
      "codemirror_mode": {
        "version": 3,
        "name": "ipython"
      }
    }
  },
  "nbformat": 4,
  "nbformat_minor": 2
}